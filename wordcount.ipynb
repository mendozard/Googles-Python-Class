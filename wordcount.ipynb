{
  "nbformat": 4,
  "nbformat_minor": 0,
  "metadata": {
    "colab": {
      "name": "wordcount.ipynb",
      "provenance": [],
      "authorship_tag": "ABX9TyNneyDvH8eoNtUn7je9C9d6"
    },
    "kernelspec": {
      "name": "python3",
      "display_name": "Python 3"
    },
    "language_info": {
      "name": "python"
    }
  },
  "cells": [
    {
      "cell_type": "markdown",
      "source": [
        "Google's Python class\n",
        "\n",
        "The main() below is already defined and complete. It calls print_words()\n",
        "and print_top() functions which you write.\n",
        "\n",
        "1. For the --count flag, implement a print_words(filename) function that counts\n",
        "how often each word appears in the text and prints:\n",
        "word1 count1\n",
        "word2 count2\n",
        "...\n",
        "\n",
        "Print the above list in order sorted by word (python will sort punctuation to\n",
        "come before letters -- that's fine). Store all the words as lowercase,\n",
        "so 'The' and 'the' count as the same word.\n",
        "\n",
        "2. For the --topcount flag, implement a print_top(filename) which is similar\n",
        "to print_words() but which prints just the top 20 most common words sorted\n",
        "so the most common word is first, then the next most common, and so on.\n",
        "\n",
        "Use str.split() (no arguments) to split on all whitespace.\n",
        "\n",
        "Workflow: don't build the whole program at once. Get it to an intermediate\n",
        "milestone and print your data structure and sys.exit(0).\n",
        "When that's working, try for the next milestone.\n",
        "\n",
        "Optional: define a helper function to avoid code duplication inside\n",
        "print_words() and print_top()."
      ],
      "metadata": {
        "id": "eRbDhiV4eyjp"
      }
    },
    {
      "cell_type": "code",
      "source": [
        "import sys\n",
        "\n",
        "def word_count_dict(filename):\n",
        "  \"\"\"Returns a word/count dict for this filename.\"\"\"\n",
        "  word_count = {}  \n",
        "  input_file = open(filename, 'r')\n",
        "  for line in input_file:\n",
        "    words = line.split()\n",
        "    for word in words:\n",
        "      word = word.lower()\n",
        "      if not word in word_count:\n",
        "        word_count[word] = 1\n",
        "      else:\n",
        "        word_count[word] = word_count[word] + 1\n",
        "  input_file.close()\n",
        "  return word_count\n",
        "\n",
        "\n",
        "def print_words(filename):\n",
        "  word_count = word_count_dict(filename)\n",
        "  words = sorted(word_count.keys())\n",
        "  for word in words:\n",
        "    print(word, word_count[word])\n",
        "\n",
        "\n",
        "def get_count(word_count_tuple): \n",
        "  return word_count_tuple[1]\n",
        "\n",
        "\n",
        "def print_top(filename):\n",
        "  word_count = word_count_dict(filename)\n",
        "  items = sorted(word_count.items(), key=get_count, reverse=True)\n",
        "  for item in items[:20]:\n",
        "    print(item[0], item[1])"
      ],
      "metadata": {
        "id": "5ffTB9FjfEZo"
      },
      "execution_count": 2,
      "outputs": []
    },
    {
      "cell_type": "code",
      "execution_count": 4,
      "metadata": {
        "id": "SoalrfYMeRcr"
      },
      "outputs": [],
      "source": [
        "def main():\n",
        "  if len(sys.argv) != 3:\n",
        "    print('usage: ./wordcount.py {--count | --topcount} file')\n",
        "    sys.exit(1)\n",
        "\n",
        "  option = sys.argv[1]\n",
        "  filename = sys.argv[2]\n",
        "  if option == '--count':\n",
        "    print_words(filename)\n",
        "  elif option == '--topcount':\n",
        "    print_top(filename)\n",
        "  else:\n",
        "    print('unknown option: ' + option)\n",
        "    sys.exit(1)"
      ]
    },
    {
      "cell_type": "code",
      "source": [
        "if __name__ == '__main__':\n",
        "  main()"
      ],
      "metadata": {
        "id": "yZe0-camfCmg"
      },
      "execution_count": null,
      "outputs": []
    }
  ]
}