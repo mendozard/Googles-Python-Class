{
  "nbformat": 4,
  "nbformat_minor": 0,
  "metadata": {
    "colab": {
      "name": "strings.ipynb",
      "provenance": [],
      "authorship_tag": "ABX9TyPT9y1vVJBqNGFm+Q+UMQzk"
    },
    "kernelspec": {
      "name": "python3",
      "display_name": "Python 3"
    },
    "language_info": {
      "name": "python"
    }
  },
  "cells": [
    {
      "cell_type": "markdown",
      "source": [
        "# A. donuts\n",
        "Given an int count of a number of donuts, return a string of the form 'Number of donuts: <count>', where <count> is the number passed in. However, if the count is 10 or more, then use the word 'many' instead of the actual count.\n",
        "So donuts(5) returns 'Number of donuts: 5' and donuts(23) returns 'Number of donuts: many'"
      ],
      "metadata": {
        "id": "k6iaC8W_3l5d"
      }
    },
    {
      "cell_type": "code",
      "execution_count": 1,
      "metadata": {
        "id": "LL9KMNME2Tv1"
      },
      "outputs": [],
      "source": [
        "def donuts(count):\n",
        "  if count < 10:\n",
        "    return 'Number of donuts: ' + str(count)\n",
        "  else:\n",
        "    return 'Number of donuts: many'"
      ]
    },
    {
      "cell_type": "markdown",
      "source": [
        "# B. both_ends\n",
        "Given a string s, return a string made of the first 2 and the last 2 chars of the original string, so 'spring' yields 'spng'. However, if the string length is less than 2, return instead the empty string."
      ],
      "metadata": {
        "id": "ZnAD99nI-oSX"
      }
    },
    {
      "cell_type": "code",
      "source": [
        "def both_ends(s):\n",
        "  if len(s) < 2:\n",
        "    return ''\n",
        "  else:\n",
        "    return s[:2] + s[-2:]"
      ],
      "metadata": {
        "id": "lnyVyy774dxs"
      },
      "execution_count": 2,
      "outputs": []
    },
    {
      "cell_type": "markdown",
      "source": [
        "# C. fix_start\n",
        "Given a string s, return a string\n",
        "where all occurences of its first char have been changed to '*', except do not change the first char itself. e.g. 'babble' yields 'ba***le'\n",
        "Assume that the string is length 1 or more.\n",
        "Hint: s.replace(stra, strb) returns a version of string s\n",
        "where all instances of stra have been replaced by strb."
      ],
      "metadata": {
        "id": "vhTIeojUBGs9"
      }
    },
    {
      "cell_type": "code",
      "source": [
        "def fix_start(s):\n",
        "  return s[0] + s[1:].replace(s[0], '*')"
      ],
      "metadata": {
        "id": "TbEZOzBU_AZ3"
      },
      "execution_count": 3,
      "outputs": []
    },
    {
      "cell_type": "markdown",
      "source": [
        "# D. MixUp\n",
        "Given strings a and b, return a single string with a and b separated by a space '*a* *b*', except swap the first 2 chars of each string.\n",
        "e.g.\n",
        "- 'mix', pod' -> 'pox mid'\n",
        "- 'dog', 'dinner' -> 'dig donner'\n",
        "\n",
        "Assume a and b are length 2 or more."
      ],
      "metadata": {
        "id": "sOcJScQLB3Vb"
      }
    },
    {
      "cell_type": "code",
      "source": [
        "def mix_up(a, b):\n",
        "  return b[0:2] + a[2:] + ' ' + a[0:2] + b[2:]"
      ],
      "metadata": {
        "id": "unyUWCfpBwAM"
      },
      "execution_count": 4,
      "outputs": []
    },
    {
      "cell_type": "markdown",
      "source": [
        "# E. verbing\n",
        "Given a string, if its length is at least 3, add 'ing' to its end.\n",
        "Unless it already ends in 'ing', in which case add 'ly' instead.\n",
        "If the string length is less than 3, leave it unchanged.\n",
        "Return the resulting string."
      ],
      "metadata": {
        "id": "T71BMwuCJD5-"
      }
    },
    {
      "cell_type": "code",
      "source": [
        "def verbing(s):\n",
        "  if len(s) >= 3:\n",
        "    if s[-3:] != 'ing': s = s + 'ing'\n",
        "    else: s = s + 'ly'\n",
        "  return s"
      ],
      "metadata": {
        "id": "Ju7CoCBMJJCF"
      },
      "execution_count": 5,
      "outputs": []
    },
    {
      "cell_type": "markdown",
      "source": [
        "# F. not_bad\n",
        "Given a string, find the first appearance of the substring 'not' and 'bad'. If the 'bad' follows the 'not', replace the whole 'not'...'bad' substring with 'good'.\n",
        "Return the resulting string.\n",
        "So 'This dinner is not that bad!' yields:\n",
        "This dinner is good!"
      ],
      "metadata": {
        "id": "bWVbcYPnKJF_"
      }
    },
    {
      "cell_type": "code",
      "source": [
        "def not_bad(s):\n",
        "  n = s.find('not')\n",
        "  b = s.find('bad')\n",
        "  if n < b:\n",
        "    s = s[:n] + 'good' + s[b+3:]\n",
        "  return s"
      ],
      "metadata": {
        "id": "GiW2tyVqJ1L2"
      },
      "execution_count": 15,
      "outputs": []
    },
    {
      "cell_type": "markdown",
      "source": [
        "# F. front_back\n",
        "Consider dividing a string into two halves.\n",
        "If the length is even, the front and back halves are the same length.\n",
        "If the length is odd, we'll say that the extra char goes in the front half.\n",
        "e.g. 'abcde', the front half is 'abc', the back half 'de'.\n",
        "Given 2 strings, a and b, return a string of the form\n",
        "a-front + b-front + a-back + b-back"
      ],
      "metadata": {
        "id": "OrVRt64ve5-E"
      }
    },
    {
      "cell_type": "code",
      "source": [
        "def front_back(a, b):\n",
        "    a_middle = len(a) / 2\n",
        "    b_middle = len(b) / 2\n",
        "    if len(a) % 2 == 1:\n",
        "      a_middle = a_middle + 1\n",
        "    if len(b) % 2 == 1:\n",
        "      b_middle = b_middle + 1\n",
        "    return a[:a_middle] + b[:b_middle] + a[a_middle:] + b[b_middle:]"
      ],
      "metadata": {
        "id": "RFnZZrHAe9Ur"
      },
      "execution_count": 21,
      "outputs": []
    },
    {
      "cell_type": "markdown",
      "source": [
        "Provided simple test() function used in main() to print what each function returns vs. what it's supposed to return."
      ],
      "metadata": {
        "id": "yT7_PGHuERUs"
      }
    },
    {
      "cell_type": "code",
      "source": [
        "def test(got, expected):\n",
        "  if got == expected:\n",
        "    prefix = ' OK '\n",
        "  else:\n",
        "    prefix = '  X '\n",
        "  print('%s got: %s expected: %s' % (prefix, repr(got), repr(expected)))"
      ],
      "metadata": {
        "id": "17zNc3ayEAw8"
      },
      "execution_count": 8,
      "outputs": []
    },
    {
      "cell_type": "markdown",
      "source": [
        "Provided main() calls the above functions with interesting inputs, using test() to check if each result is correct or not."
      ],
      "metadata": {
        "id": "__Ib1rJXEddT"
      }
    },
    {
      "cell_type": "code",
      "source": [
        "def main():\n",
        "  print('donuts')\n",
        "  test(donuts(4), 'Number of donuts: 4')\n",
        "  test(donuts(9), 'Number of donuts: 9')\n",
        "  test(donuts(10), 'Number of donuts: many')\n",
        "  test(donuts(99), 'Number of donuts: many')\n",
        "\n",
        "  print\n",
        "  print('both_ends')\n",
        "  test(both_ends('spring'), 'spng')\n",
        "  test(both_ends('Hello'), 'Helo')\n",
        "  test(both_ends('a'), '')\n",
        "  test(both_ends('xyz'), 'xyyz')\n",
        "\n",
        "  \n",
        "  print\n",
        "  print('fix_start')\n",
        "  test(fix_start('babble'), 'ba**le')\n",
        "  test(fix_start('aardvark'), 'a*rdv*rk')\n",
        "  test(fix_start('google'), 'goo*le')\n",
        "  test(fix_start('donut'), 'donut')\n",
        "\n",
        "  print\n",
        "  print('mix_up')\n",
        "  test(mix_up('mix', 'pod'), 'pox mid')\n",
        "  test(mix_up('dog', 'dinner'), 'dig donner')\n",
        "  test(mix_up('gnash', 'sport'), 'spash gnort')\n",
        "  test(mix_up('pezzy', 'firm'), 'fizzy perm')\n",
        "\n",
        "  print('verbing')\n",
        "  test(verbing('hail'), 'hailing')\n",
        "  test(verbing('swiming'), 'swimingly')\n",
        "  test(verbing('do'), 'do')\n",
        "\n",
        "  print\n",
        "  print('not_bad')\n",
        "  test(not_bad('This movie is not so bad'), 'This movie is good')\n",
        "  test(not_bad('This dinner is not that bad!'), 'This dinner is good!')\n",
        "  test(not_bad('This tea is not hot'), 'This tea is not hot')\n",
        "  test(not_bad(\"It's bad yet not\"), \"It's bad yet not\")\n",
        "\n",
        "  print\n",
        "  print('front_back')\n",
        "  test(front_back('abcd', 'xy'), 'abxcdy')\n",
        "  test(front_back('abcde', 'xyz'), 'abcxydez')\n",
        "  test(front_back('Kitten', 'Donut'), 'KitDontenut')"
      ],
      "metadata": {
        "id": "hzrCbMb1Eizo"
      },
      "execution_count": 9,
      "outputs": []
    },
    {
      "cell_type": "markdown",
      "source": [
        "Standard boilerplate to call the main() function."
      ],
      "metadata": {
        "id": "Zchx0NaWGqfm"
      }
    },
    {
      "cell_type": "code",
      "source": [
        "if __name__ == '__main__':\n",
        "  main()"
      ],
      "metadata": {
        "id": "SIAtrTREE-Xe"
      },
      "execution_count": null,
      "outputs": []
    }
  ]
}