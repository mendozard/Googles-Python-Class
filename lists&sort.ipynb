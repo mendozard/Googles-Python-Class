{
  "nbformat": 4,
  "nbformat_minor": 0,
  "metadata": {
    "colab": {
      "name": "lists&sort.ipynb",
      "provenance": [],
      "collapsed_sections": [],
      "authorship_tag": "ABX9TyODG9Z9yfp2pC9ht4vTILCD"
    },
    "kernelspec": {
      "name": "python3",
      "display_name": "Python 3"
    },
    "language_info": {
      "name": "python"
    }
  },
  "cells": [
    {
      "cell_type": "markdown",
      "source": [
        "# A. match_ends\n",
        "Given a list of strings, return the count of the number of\n",
        "strings where the string length is 2 or more and the first\n",
        "and last chars of the string are the same.\n",
        "Note: python does not have a ++ operator, but += works."
      ],
      "metadata": {
        "id": "f44Ar08-lkXy"
      }
    },
    {
      "cell_type": "code",
      "execution_count": 6,
      "metadata": {
        "id": "s3FDkgzTjVtc"
      },
      "outputs": [],
      "source": [
        "def match_ends(words):\n",
        "  count = 0\n",
        "  for word in words:\n",
        "    if len(word) > 1 and word[0] == word[-1]:\n",
        "      count += 1\n",
        "  return count\n"
      ]
    },
    {
      "cell_type": "markdown",
      "source": [
        "# B. front_x\n",
        "Given a list of strings, return a list with the strings in sorted order, except group all the strings that begin with 'x' first.\n",
        "\n",
        "e.g. ['mix', 'xyz', 'apple', 'xanadu', 'aardvark'] yields ['xanadu', 'xyz', 'aardvark', 'apple', 'mix']\n",
        "\n",
        "Hint: this can be done by making 2 lists and sorting each of them before combining them."
      ],
      "metadata": {
        "id": "FRdxqkqlmvAS"
      }
    },
    {
      "cell_type": "code",
      "source": [
        "def front_x(words):\n",
        "  x_list = []\n",
        "  other_list = []\n",
        "  for word in words:\n",
        "    if word[0] == 'x':\n",
        "      x_list.append(word)\n",
        "    else:\n",
        "      other_list.append(word)\n",
        "  return sorted(x_list) + sorted(other_list)"
      ],
      "metadata": {
        "id": "Y1q8XR8im8C9"
      },
      "execution_count": 8,
      "outputs": []
    },
    {
      "cell_type": "markdown",
      "source": [
        "# C. sort_last\n",
        "Given a list of non-empty tuples, return a list sorted in increasing order by the last element in each tuple.\n",
        "\n",
        "e.g. [(1, 7), (1, 3), (3, 4, 5), (2, 2)] yields [(2, 2), (1, 3), (3, 4, 5), (1, 7)]\n",
        "\n",
        "Hint: use a custom key= function to extract the last element form each tuple."
      ],
      "metadata": {
        "id": "vPd8tsFdnpEK"
      }
    },
    {
      "cell_type": "code",
      "source": [
        "def last(value):\n",
        "  return value[-1]\n",
        "\n",
        "def sort_last(tuples):\n",
        "  return sorted(tuples, key=last)"
      ],
      "metadata": {
        "id": "EzjrwpCqnwGw"
      },
      "execution_count": 19,
      "outputs": []
    },
    {
      "cell_type": "markdown",
      "source": [
        "# D. remove_adjacent\n",
        "Given a list of numbers, return a list where\n",
        "all adjacent == elements have been reduced to a single element, so [1, 2, 2, 3] returns [1, 2, 3]. You may create a new list or modify the passed in list."
      ],
      "metadata": {
        "id": "GRrfYTMOo1xa"
      }
    },
    {
      "cell_type": "code",
      "source": [
        "def remove_adjacent(nums):\n",
        "  new_list = []\n",
        "  for num in nums:\n",
        "    if len(new_list) == 0 or num != new_list[-1]:\n",
        "      new_list.append(num)\n",
        "  return new_list"
      ],
      "metadata": {
        "id": "lD6MXQ7Ao5UR"
      },
      "execution_count": 21,
      "outputs": []
    },
    {
      "cell_type": "markdown",
      "source": [
        "# E. linear_merge\n",
        "Given two lists sorted in increasing order, create and return a merged list of all the elements in sorted order. You may modify the passed in lists.\n",
        "Ideally, the solution should work in \"linear\" time, making a single pass of both lists."
      ],
      "metadata": {
        "id": "hiMnRR50rnOk"
      }
    },
    {
      "cell_type": "code",
      "source": [
        "def linear_merge(list1, list2):\n",
        "  result = []\n",
        "  while len(list1) and len(list2):\n",
        "    if list1[0] < list2[0]:\n",
        "      result.append(list1.pop(0))\n",
        "    else:\n",
        "      result.append(list2.pop(0))\n",
        "  \n",
        "  result.extend(list1)\n",
        "  result.extend(list2)\n",
        "  \n",
        "  return result"
      ],
      "metadata": {
        "id": "oCXXFoAOrr5Z"
      },
      "execution_count": 27,
      "outputs": []
    },
    {
      "cell_type": "markdown",
      "source": [
        "Simple provided test() function used in main() to print what each function returns vs. what it's supposed to return."
      ],
      "metadata": {
        "id": "ahVoQkjfl-WZ"
      }
    },
    {
      "cell_type": "code",
      "source": [
        "def test(got, expected):\n",
        "  if got == expected:\n",
        "    prefix = ' OK '\n",
        "  else:\n",
        "    prefix = '  X '\n",
        "  print('%s got: %s expected: %s' % (prefix, repr(got), repr(expected)))"
      ],
      "metadata": {
        "id": "64xPC0UGmEfS"
      },
      "execution_count": 2,
      "outputs": []
    },
    {
      "cell_type": "markdown",
      "source": [
        "Calls the above functions with interesting inputs."
      ],
      "metadata": {
        "id": "MQX3eO5smJkR"
      }
    },
    {
      "cell_type": "code",
      "source": [
        "def main():\n",
        "  print('match_ends')\n",
        "  test(match_ends(['aba', 'xyz', 'aa', 'x', 'bbb']), 3)\n",
        "  test(match_ends(['', 'x', 'xy', 'xyx', 'xx']), 2)\n",
        "  test(match_ends(['aaa', 'be', 'abc', 'hello']), 1)\n",
        "\n",
        "  print\n",
        "  print('front_x')\n",
        "  test(front_x(['bbb', 'ccc', 'axx', 'xzz', 'xaa']),\n",
        "       ['xaa', 'xzz', 'axx', 'bbb', 'ccc'])\n",
        "  test(front_x(['ccc', 'bbb', 'aaa', 'xcc', 'xaa']),\n",
        "       ['xaa', 'xcc', 'aaa', 'bbb', 'ccc'])\n",
        "  test(front_x(['mix', 'xyz', 'apple', 'xanadu', 'aardvark']),\n",
        "       ['xanadu', 'xyz', 'aardvark', 'apple', 'mix'])\n",
        "  \n",
        "  print\n",
        "  print('sort_last')\n",
        "  test(sort_last([(1, 3), (3, 2), (2, 1)]),\n",
        "       [(2, 1), (3, 2), (1, 3)])\n",
        "  test(sort_last([(2, 3), (1, 2), (3, 1)]),\n",
        "       [(3, 1), (1, 2), (2, 3)])\n",
        "  test(sort_last([(1, 7), (1, 3), (3, 4, 5), (2, 2)]),\n",
        "       [(2, 2), (1, 3), (3, 4, 5), (1, 7)])\n",
        "  \n",
        "  print('remove_adjacent')\n",
        "  test(remove_adjacent([1, 2, 2, 3]), [1, 2, 3])\n",
        "  test(remove_adjacent([2, 2, 3, 3, 3]), [2, 3])\n",
        "  test(remove_adjacent([]), [])\n",
        "\n",
        "  print\n",
        "  print('linear_merge')\n",
        "  test(linear_merge(['aa', 'xx', 'zz'], ['bb', 'cc']),\n",
        "       ['aa', 'bb', 'cc', 'xx', 'zz'])\n",
        "  test(linear_merge(['aa', 'xx'], ['bb', 'cc', 'zz']),\n",
        "       ['aa', 'bb', 'cc', 'xx', 'zz'])\n",
        "  test(linear_merge(['aa', 'aa'], ['aa', 'bb', 'bb']),\n",
        "       ['aa', 'aa', 'aa', 'bb', 'bb'])"
      ],
      "metadata": {
        "id": "DIMHFBCPmLxx"
      },
      "execution_count": 25,
      "outputs": []
    },
    {
      "cell_type": "markdown",
      "source": [
        "Standard boilerplate to call the main() function."
      ],
      "metadata": {
        "id": "Tlo4CBYRmWlB"
      }
    },
    {
      "cell_type": "code",
      "source": [
        "if __name__ == '__main__':\n",
        "  main()"
      ],
      "metadata": {
        "id": "NAgMwiSfmW87"
      },
      "execution_count": null,
      "outputs": []
    }
  ]
}